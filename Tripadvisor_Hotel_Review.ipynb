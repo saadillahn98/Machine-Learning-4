{
  "nbformat": 4,
  "nbformat_minor": 0,
  "metadata": {
    "colab": {
      "name": "Tripadvisor Hotel Review",
      "provenance": []
    },
    "kernelspec": {
      "name": "python3",
      "display_name": "Python 3"
    },
    "language_info": {
      "name": "python"
    }
  },
  "cells": [
    {
      "cell_type": "code",
      "execution_count": 1,
      "metadata": {
        "colab": {
          "base_uri": "https://localhost:8080/"
        },
        "id": "Ma6y3BSa5U5N",
        "outputId": "97708008-f5bc-42cf-937e-6016d3e34dfb"
      },
      "outputs": [
        {
          "output_type": "stream",
          "name": "stdout",
          "text": [
            "nama = Saadillah Noer \n",
            " nik = 3275091002980011\n"
          ]
        }
      ],
      "source": [
        "nama = \"Saadillah Noer\"\n",
        "nik = 3275091002980011\n",
        "\n",
        "print(\"nama =\",nama, \"\\n\", \"nik =\", nik)"
      ]
    },
    {
      "cell_type": "markdown",
      "source": [
        "# Bagian Baru"
      ],
      "metadata": {
        "id": "HHRH8oj56Vd2"
      }
    },
    {
      "cell_type": "markdown",
      "source": [
        "**Menggunakan Model untuk Melakukan Prediksi**"
      ],
      "metadata": {
        "id": "0zJ1jwtf7L_Z"
      }
    },
    {
      "cell_type": "code",
      "source": [
        "import tensorflow as tf\n",
        "import numpy as np\n",
        "from tensorflow import keras\n",
        "xs = np.array([1.0,  2.0, 3.0, 4.0, 5.0, 6.0], dtype=float)\n",
        "ys = np.array([4.0, 6.0, 8.0, 10.0, 12.0, 14.0], dtype=float)"
      ],
      "metadata": {
        "id": "2HXOyhgj6dxC"
      },
      "execution_count": 2,
      "outputs": []
    },
    {
      "cell_type": "code",
      "source": [
        "model = tf.keras.Sequential([keras.layers.Dense(units=1, input_shape=[1])])"
      ],
      "metadata": {
        "id": "31tb7blQ7YOK"
      },
      "execution_count": 3,
      "outputs": []
    },
    {
      "cell_type": "code",
      "source": [
        "model.compile(optimizer='sgd', loss='mean_squared_error')"
      ],
      "metadata": {
        "id": "ys_1NJjQ7c0O"
      },
      "execution_count": 4,
      "outputs": []
    },
    {
      "cell_type": "code",
      "source": [
        "model.fit(xs, ys, epochs=150)"
      ],
      "metadata": {
        "colab": {
          "base_uri": "https://localhost:8080/"
        },
        "id": "bTFzcyta7iXU",
        "outputId": "1954802a-51ee-4e2e-bc08-3045ce8697f0"
      },
      "execution_count": 5,
      "outputs": [
        {
          "output_type": "stream",
          "name": "stdout",
          "text": [
            "Epoch 1/150\n",
            "1/1 [==============================] - 1s 566ms/step - loss: 14.4234\n",
            "Epoch 2/150\n",
            "1/1 [==============================] - 0s 12ms/step - loss: 7.0018\n",
            "Epoch 3/150\n",
            "1/1 [==============================] - 0s 5ms/step - loss: 3.5644\n",
            "Epoch 4/150\n",
            "1/1 [==============================] - 0s 8ms/step - loss: 1.9712\n",
            "Epoch 5/150\n",
            "1/1 [==============================] - 0s 9ms/step - loss: 1.2314\n",
            "Epoch 6/150\n",
            "1/1 [==============================] - 0s 11ms/step - loss: 0.8867\n",
            "Epoch 7/150\n",
            "1/1 [==============================] - 0s 9ms/step - loss: 0.7249\n",
            "Epoch 8/150\n",
            "1/1 [==============================] - 0s 7ms/step - loss: 0.6477\n",
            "Epoch 9/150\n",
            "1/1 [==============================] - 0s 8ms/step - loss: 0.6097\n",
            "Epoch 10/150\n",
            "1/1 [==============================] - 0s 7ms/step - loss: 0.5898\n",
            "Epoch 11/150\n",
            "1/1 [==============================] - 0s 8ms/step - loss: 0.5784\n",
            "Epoch 12/150\n",
            "1/1 [==============================] - 0s 12ms/step - loss: 0.5709\n",
            "Epoch 13/150\n",
            "1/1 [==============================] - 0s 8ms/step - loss: 0.5652\n",
            "Epoch 14/150\n",
            "1/1 [==============================] - 0s 17ms/step - loss: 0.5604\n",
            "Epoch 15/150\n",
            "1/1 [==============================] - 0s 11ms/step - loss: 0.5560\n",
            "Epoch 16/150\n",
            "1/1 [==============================] - 0s 13ms/step - loss: 0.5518\n",
            "Epoch 17/150\n",
            "1/1 [==============================] - 0s 8ms/step - loss: 0.5477\n",
            "Epoch 18/150\n",
            "1/1 [==============================] - 0s 7ms/step - loss: 0.5437\n",
            "Epoch 19/150\n",
            "1/1 [==============================] - 0s 7ms/step - loss: 0.5397\n",
            "Epoch 20/150\n",
            "1/1 [==============================] - 0s 9ms/step - loss: 0.5357\n",
            "Epoch 21/150\n",
            "1/1 [==============================] - 0s 7ms/step - loss: 0.5318\n",
            "Epoch 22/150\n",
            "1/1 [==============================] - 0s 8ms/step - loss: 0.5280\n",
            "Epoch 23/150\n",
            "1/1 [==============================] - 0s 6ms/step - loss: 0.5241\n",
            "Epoch 24/150\n",
            "1/1 [==============================] - 0s 5ms/step - loss: 0.5203\n",
            "Epoch 25/150\n",
            "1/1 [==============================] - 0s 12ms/step - loss: 0.5165\n",
            "Epoch 26/150\n",
            "1/1 [==============================] - 0s 6ms/step - loss: 0.5127\n",
            "Epoch 27/150\n",
            "1/1 [==============================] - 0s 6ms/step - loss: 0.5090\n",
            "Epoch 28/150\n",
            "1/1 [==============================] - 0s 6ms/step - loss: 0.5053\n",
            "Epoch 29/150\n",
            "1/1 [==============================] - 0s 9ms/step - loss: 0.5016\n",
            "Epoch 30/150\n",
            "1/1 [==============================] - 0s 7ms/step - loss: 0.4980\n",
            "Epoch 31/150\n",
            "1/1 [==============================] - 0s 17ms/step - loss: 0.4943\n",
            "Epoch 32/150\n",
            "1/1 [==============================] - 0s 9ms/step - loss: 0.4907\n",
            "Epoch 33/150\n",
            "1/1 [==============================] - 0s 10ms/step - loss: 0.4872\n",
            "Epoch 34/150\n",
            "1/1 [==============================] - 0s 11ms/step - loss: 0.4836\n",
            "Epoch 35/150\n",
            "1/1 [==============================] - 0s 8ms/step - loss: 0.4801\n",
            "Epoch 36/150\n",
            "1/1 [==============================] - 0s 4ms/step - loss: 0.4766\n",
            "Epoch 37/150\n",
            "1/1 [==============================] - 0s 5ms/step - loss: 0.4731\n",
            "Epoch 38/150\n",
            "1/1 [==============================] - 0s 5ms/step - loss: 0.4697\n",
            "Epoch 39/150\n",
            "1/1 [==============================] - 0s 5ms/step - loss: 0.4662\n",
            "Epoch 40/150\n",
            "1/1 [==============================] - 0s 5ms/step - loss: 0.4628\n",
            "Epoch 41/150\n",
            "1/1 [==============================] - 0s 4ms/step - loss: 0.4595\n",
            "Epoch 42/150\n",
            "1/1 [==============================] - 0s 6ms/step - loss: 0.4561\n",
            "Epoch 43/150\n",
            "1/1 [==============================] - 0s 4ms/step - loss: 0.4528\n",
            "Epoch 44/150\n",
            "1/1 [==============================] - 0s 5ms/step - loss: 0.4495\n",
            "Epoch 45/150\n",
            "1/1 [==============================] - 0s 10ms/step - loss: 0.4462\n",
            "Epoch 46/150\n",
            "1/1 [==============================] - 0s 4ms/step - loss: 0.4430\n",
            "Epoch 47/150\n",
            "1/1 [==============================] - 0s 5ms/step - loss: 0.4398\n",
            "Epoch 48/150\n",
            "1/1 [==============================] - 0s 10ms/step - loss: 0.4366\n",
            "Epoch 49/150\n",
            "1/1 [==============================] - 0s 4ms/step - loss: 0.4334\n",
            "Epoch 50/150\n",
            "1/1 [==============================] - 0s 4ms/step - loss: 0.4302\n",
            "Epoch 51/150\n",
            "1/1 [==============================] - 0s 8ms/step - loss: 0.4271\n",
            "Epoch 52/150\n",
            "1/1 [==============================] - 0s 4ms/step - loss: 0.4240\n",
            "Epoch 53/150\n",
            "1/1 [==============================] - 0s 4ms/step - loss: 0.4209\n",
            "Epoch 54/150\n",
            "1/1 [==============================] - 0s 13ms/step - loss: 0.4178\n",
            "Epoch 55/150\n",
            "1/1 [==============================] - 0s 6ms/step - loss: 0.4148\n",
            "Epoch 56/150\n",
            "1/1 [==============================] - 0s 8ms/step - loss: 0.4117\n",
            "Epoch 57/150\n",
            "1/1 [==============================] - 0s 16ms/step - loss: 0.4087\n",
            "Epoch 58/150\n",
            "1/1 [==============================] - 0s 6ms/step - loss: 0.4058\n",
            "Epoch 59/150\n",
            "1/1 [==============================] - 0s 7ms/step - loss: 0.4028\n",
            "Epoch 60/150\n",
            "1/1 [==============================] - 0s 7ms/step - loss: 0.3999\n",
            "Epoch 61/150\n",
            "1/1 [==============================] - 0s 9ms/step - loss: 0.3970\n",
            "Epoch 62/150\n",
            "1/1 [==============================] - 0s 5ms/step - loss: 0.3941\n",
            "Epoch 63/150\n",
            "1/1 [==============================] - 0s 11ms/step - loss: 0.3912\n",
            "Epoch 64/150\n",
            "1/1 [==============================] - 0s 9ms/step - loss: 0.3884\n",
            "Epoch 65/150\n",
            "1/1 [==============================] - 0s 8ms/step - loss: 0.3855\n",
            "Epoch 66/150\n",
            "1/1 [==============================] - 0s 6ms/step - loss: 0.3827\n",
            "Epoch 67/150\n",
            "1/1 [==============================] - 0s 7ms/step - loss: 0.3799\n",
            "Epoch 68/150\n",
            "1/1 [==============================] - 0s 5ms/step - loss: 0.3772\n",
            "Epoch 69/150\n",
            "1/1 [==============================] - 0s 8ms/step - loss: 0.3744\n",
            "Epoch 70/150\n",
            "1/1 [==============================] - 0s 5ms/step - loss: 0.3717\n",
            "Epoch 71/150\n",
            "1/1 [==============================] - 0s 7ms/step - loss: 0.3690\n",
            "Epoch 72/150\n",
            "1/1 [==============================] - 0s 7ms/step - loss: 0.3663\n",
            "Epoch 73/150\n",
            "1/1 [==============================] - 0s 8ms/step - loss: 0.3636\n",
            "Epoch 74/150\n",
            "1/1 [==============================] - 0s 8ms/step - loss: 0.3610\n",
            "Epoch 75/150\n",
            "1/1 [==============================] - 0s 5ms/step - loss: 0.3583\n",
            "Epoch 76/150\n",
            "1/1 [==============================] - 0s 7ms/step - loss: 0.3557\n",
            "Epoch 77/150\n",
            "1/1 [==============================] - 0s 8ms/step - loss: 0.3531\n",
            "Epoch 78/150\n",
            "1/1 [==============================] - 0s 5ms/step - loss: 0.3506\n",
            "Epoch 79/150\n",
            "1/1 [==============================] - 0s 9ms/step - loss: 0.3480\n",
            "Epoch 80/150\n",
            "1/1 [==============================] - 0s 5ms/step - loss: 0.3455\n",
            "Epoch 81/150\n",
            "1/1 [==============================] - 0s 8ms/step - loss: 0.3430\n",
            "Epoch 82/150\n",
            "1/1 [==============================] - 0s 5ms/step - loss: 0.3405\n",
            "Epoch 83/150\n",
            "1/1 [==============================] - 0s 7ms/step - loss: 0.3380\n",
            "Epoch 84/150\n",
            "1/1 [==============================] - 0s 7ms/step - loss: 0.3355\n",
            "Epoch 85/150\n",
            "1/1 [==============================] - 0s 8ms/step - loss: 0.3331\n",
            "Epoch 86/150\n",
            "1/1 [==============================] - 0s 8ms/step - loss: 0.3306\n",
            "Epoch 87/150\n",
            "1/1 [==============================] - 0s 5ms/step - loss: 0.3282\n",
            "Epoch 88/150\n",
            "1/1 [==============================] - 0s 5ms/step - loss: 0.3258\n",
            "Epoch 89/150\n",
            "1/1 [==============================] - 0s 7ms/step - loss: 0.3235\n",
            "Epoch 90/150\n",
            "1/1 [==============================] - 0s 5ms/step - loss: 0.3211\n",
            "Epoch 91/150\n",
            "1/1 [==============================] - 0s 14ms/step - loss: 0.3188\n",
            "Epoch 92/150\n",
            "1/1 [==============================] - 0s 7ms/step - loss: 0.3165\n",
            "Epoch 93/150\n",
            "1/1 [==============================] - 0s 6ms/step - loss: 0.3141\n",
            "Epoch 94/150\n",
            "1/1 [==============================] - 0s 6ms/step - loss: 0.3119\n",
            "Epoch 95/150\n",
            "1/1 [==============================] - 0s 10ms/step - loss: 0.3096\n",
            "Epoch 96/150\n",
            "1/1 [==============================] - 0s 11ms/step - loss: 0.3073\n",
            "Epoch 97/150\n",
            "1/1 [==============================] - 0s 8ms/step - loss: 0.3051\n",
            "Epoch 98/150\n",
            "1/1 [==============================] - 0s 5ms/step - loss: 0.3029\n",
            "Epoch 99/150\n",
            "1/1 [==============================] - 0s 5ms/step - loss: 0.3007\n",
            "Epoch 100/150\n",
            "1/1 [==============================] - 0s 9ms/step - loss: 0.2985\n",
            "Epoch 101/150\n",
            "1/1 [==============================] - 0s 5ms/step - loss: 0.2963\n",
            "Epoch 102/150\n",
            "1/1 [==============================] - 0s 11ms/step - loss: 0.2941\n",
            "Epoch 103/150\n",
            "1/1 [==============================] - 0s 5ms/step - loss: 0.2920\n",
            "Epoch 104/150\n",
            "1/1 [==============================] - 0s 6ms/step - loss: 0.2899\n",
            "Epoch 105/150\n",
            "1/1 [==============================] - 0s 10ms/step - loss: 0.2878\n",
            "Epoch 106/150\n",
            "1/1 [==============================] - 0s 6ms/step - loss: 0.2857\n",
            "Epoch 107/150\n",
            "1/1 [==============================] - 0s 10ms/step - loss: 0.2836\n",
            "Epoch 108/150\n",
            "1/1 [==============================] - 0s 7ms/step - loss: 0.2815\n",
            "Epoch 109/150\n",
            "1/1 [==============================] - 0s 19ms/step - loss: 0.2795\n",
            "Epoch 110/150\n",
            "1/1 [==============================] - 0s 6ms/step - loss: 0.2774\n",
            "Epoch 111/150\n",
            "1/1 [==============================] - 0s 7ms/step - loss: 0.2754\n",
            "Epoch 112/150\n",
            "1/1 [==============================] - 0s 5ms/step - loss: 0.2734\n",
            "Epoch 113/150\n",
            "1/1 [==============================] - 0s 6ms/step - loss: 0.2714\n",
            "Epoch 114/150\n",
            "1/1 [==============================] - 0s 9ms/step - loss: 0.2694\n",
            "Epoch 115/150\n",
            "1/1 [==============================] - 0s 7ms/step - loss: 0.2675\n",
            "Epoch 116/150\n",
            "1/1 [==============================] - 0s 7ms/step - loss: 0.2655\n",
            "Epoch 117/150\n",
            "1/1 [==============================] - 0s 5ms/step - loss: 0.2636\n",
            "Epoch 118/150\n",
            "1/1 [==============================] - 0s 5ms/step - loss: 0.2617\n",
            "Epoch 119/150\n",
            "1/1 [==============================] - 0s 5ms/step - loss: 0.2598\n",
            "Epoch 120/150\n",
            "1/1 [==============================] - 0s 9ms/step - loss: 0.2579\n",
            "Epoch 121/150\n",
            "1/1 [==============================] - 0s 6ms/step - loss: 0.2560\n",
            "Epoch 122/150\n",
            "1/1 [==============================] - 0s 6ms/step - loss: 0.2541\n",
            "Epoch 123/150\n",
            "1/1 [==============================] - 0s 7ms/step - loss: 0.2523\n",
            "Epoch 124/150\n",
            "1/1 [==============================] - 0s 7ms/step - loss: 0.2504\n",
            "Epoch 125/150\n",
            "1/1 [==============================] - 0s 19ms/step - loss: 0.2486\n",
            "Epoch 126/150\n",
            "1/1 [==============================] - 0s 5ms/step - loss: 0.2468\n",
            "Epoch 127/150\n",
            "1/1 [==============================] - 0s 7ms/step - loss: 0.2450\n",
            "Epoch 128/150\n",
            "1/1 [==============================] - 0s 11ms/step - loss: 0.2432\n",
            "Epoch 129/150\n",
            "1/1 [==============================] - 0s 10ms/step - loss: 0.2414\n",
            "Epoch 130/150\n",
            "1/1 [==============================] - 0s 15ms/step - loss: 0.2397\n",
            "Epoch 131/150\n",
            "1/1 [==============================] - 0s 13ms/step - loss: 0.2379\n",
            "Epoch 132/150\n",
            "1/1 [==============================] - 0s 9ms/step - loss: 0.2362\n",
            "Epoch 133/150\n",
            "1/1 [==============================] - 0s 10ms/step - loss: 0.2345\n",
            "Epoch 134/150\n",
            "1/1 [==============================] - 0s 5ms/step - loss: 0.2328\n",
            "Epoch 135/150\n",
            "1/1 [==============================] - 0s 10ms/step - loss: 0.2311\n",
            "Epoch 136/150\n",
            "1/1 [==============================] - 0s 5ms/step - loss: 0.2294\n",
            "Epoch 137/150\n",
            "1/1 [==============================] - 0s 11ms/step - loss: 0.2277\n",
            "Epoch 138/150\n",
            "1/1 [==============================] - 0s 5ms/step - loss: 0.2261\n",
            "Epoch 139/150\n",
            "1/1 [==============================] - 0s 9ms/step - loss: 0.2244\n",
            "Epoch 140/150\n",
            "1/1 [==============================] - 0s 13ms/step - loss: 0.2228\n",
            "Epoch 141/150\n",
            "1/1 [==============================] - 0s 11ms/step - loss: 0.2212\n",
            "Epoch 142/150\n",
            "1/1 [==============================] - 0s 17ms/step - loss: 0.2195\n",
            "Epoch 143/150\n",
            "1/1 [==============================] - 0s 12ms/step - loss: 0.2179\n",
            "Epoch 144/150\n",
            "1/1 [==============================] - 0s 10ms/step - loss: 0.2164\n",
            "Epoch 145/150\n",
            "1/1 [==============================] - 0s 14ms/step - loss: 0.2148\n",
            "Epoch 146/150\n",
            "1/1 [==============================] - 0s 15ms/step - loss: 0.2132\n",
            "Epoch 147/150\n",
            "1/1 [==============================] - 0s 15ms/step - loss: 0.2117\n",
            "Epoch 148/150\n",
            "1/1 [==============================] - 0s 6ms/step - loss: 0.2101\n",
            "Epoch 149/150\n",
            "1/1 [==============================] - 0s 7ms/step - loss: 0.2086\n",
            "Epoch 150/150\n",
            "1/1 [==============================] - 0s 13ms/step - loss: 0.2071\n"
          ]
        },
        {
          "output_type": "execute_result",
          "data": {
            "text/plain": [
              "<keras.callbacks.History at 0x7ff06df9de10>"
            ]
          },
          "metadata": {},
          "execution_count": 5
        }
      ]
    },
    {
      "cell_type": "markdown",
      "source": [
        "**Model Sequential dengan Beberapa Layer**"
      ],
      "metadata": {
        "id": "YqJ8_Rv17qKB"
      }
    },
    {
      "cell_type": "code",
      "source": [
        "model = tf.keras.Sequential([\n",
        "                             keras.layers.Dense(units=1, input_shape=[1]),\n",
        "                             keras.layers.Dense(units=8),\n",
        "                             keras.layers.Dense(units=1)\n",
        "])"
      ],
      "metadata": {
        "id": "Jq4fgFjp7uLw"
      },
      "execution_count": 6,
      "outputs": []
    },
    {
      "cell_type": "markdown",
      "source": [
        "**Membuat Model untuk Klasifikasi Dua Kelas**"
      ],
      "metadata": {
        "id": "nz4nc8W-8Q_l"
      }
    },
    {
      "cell_type": "code",
      "source": [
        "import pandas as pd\n",
        "df = pd.read_csv('tripadvisor_hotel_reviews.csv')"
      ],
      "metadata": {
        "id": "lNX3L_cv8Nwm"
      },
      "execution_count": 7,
      "outputs": []
    },
    {
      "cell_type": "code",
      "source": [
        "df.info()"
      ],
      "metadata": {
        "colab": {
          "base_uri": "https://localhost:8080/"
        },
        "id": "PedeF1gA8iCt",
        "outputId": "79f7ad5e-0ae6-4079-dc8d-5e20c1b33a23"
      },
      "execution_count": 8,
      "outputs": [
        {
          "output_type": "stream",
          "name": "stdout",
          "text": [
            "<class 'pandas.core.frame.DataFrame'>\n",
            "RangeIndex: 20491 entries, 0 to 20490\n",
            "Data columns (total 2 columns):\n",
            " #   Column  Non-Null Count  Dtype \n",
            "---  ------  --------------  ----- \n",
            " 0   Review  20491 non-null  object\n",
            " 1   Rating  20491 non-null  int64 \n",
            "dtypes: int64(1), object(1)\n",
            "memory usage: 320.3+ KB\n"
          ]
        }
      ]
    },
    {
      "cell_type": "code",
      "source": [
        "df.head()"
      ],
      "metadata": {
        "colab": {
          "base_uri": "https://localhost:8080/",
          "height": 206
        },
        "id": "M4VyyEmL8o5F",
        "outputId": "991934e8-8233-460b-d11c-c70f39194eb0"
      },
      "execution_count": 9,
      "outputs": [
        {
          "output_type": "execute_result",
          "data": {
            "text/html": [
              "\n",
              "  <div id=\"df-a5701034-aebd-48ad-8047-7a8d65519cb6\">\n",
              "    <div class=\"colab-df-container\">\n",
              "      <div>\n",
              "<style scoped>\n",
              "    .dataframe tbody tr th:only-of-type {\n",
              "        vertical-align: middle;\n",
              "    }\n",
              "\n",
              "    .dataframe tbody tr th {\n",
              "        vertical-align: top;\n",
              "    }\n",
              "\n",
              "    .dataframe thead th {\n",
              "        text-align: right;\n",
              "    }\n",
              "</style>\n",
              "<table border=\"1\" class=\"dataframe\">\n",
              "  <thead>\n",
              "    <tr style=\"text-align: right;\">\n",
              "      <th></th>\n",
              "      <th>Review</th>\n",
              "      <th>Rating</th>\n",
              "    </tr>\n",
              "  </thead>\n",
              "  <tbody>\n",
              "    <tr>\n",
              "      <th>0</th>\n",
              "      <td>nice hotel expensive parking got good deal sta...</td>\n",
              "      <td>4</td>\n",
              "    </tr>\n",
              "    <tr>\n",
              "      <th>1</th>\n",
              "      <td>ok nothing special charge diamond member hilto...</td>\n",
              "      <td>2</td>\n",
              "    </tr>\n",
              "    <tr>\n",
              "      <th>2</th>\n",
              "      <td>nice rooms not 4* experience hotel monaco seat...</td>\n",
              "      <td>3</td>\n",
              "    </tr>\n",
              "    <tr>\n",
              "      <th>3</th>\n",
              "      <td>unique, great stay, wonderful time hotel monac...</td>\n",
              "      <td>5</td>\n",
              "    </tr>\n",
              "    <tr>\n",
              "      <th>4</th>\n",
              "      <td>great stay great stay, went seahawk game aweso...</td>\n",
              "      <td>5</td>\n",
              "    </tr>\n",
              "  </tbody>\n",
              "</table>\n",
              "</div>\n",
              "      <button class=\"colab-df-convert\" onclick=\"convertToInteractive('df-a5701034-aebd-48ad-8047-7a8d65519cb6')\"\n",
              "              title=\"Convert this dataframe to an interactive table.\"\n",
              "              style=\"display:none;\">\n",
              "        \n",
              "  <svg xmlns=\"http://www.w3.org/2000/svg\" height=\"24px\"viewBox=\"0 0 24 24\"\n",
              "       width=\"24px\">\n",
              "    <path d=\"M0 0h24v24H0V0z\" fill=\"none\"/>\n",
              "    <path d=\"M18.56 5.44l.94 2.06.94-2.06 2.06-.94-2.06-.94-.94-2.06-.94 2.06-2.06.94zm-11 1L8.5 8.5l.94-2.06 2.06-.94-2.06-.94L8.5 2.5l-.94 2.06-2.06.94zm10 10l.94 2.06.94-2.06 2.06-.94-2.06-.94-.94-2.06-.94 2.06-2.06.94z\"/><path d=\"M17.41 7.96l-1.37-1.37c-.4-.4-.92-.59-1.43-.59-.52 0-1.04.2-1.43.59L10.3 9.45l-7.72 7.72c-.78.78-.78 2.05 0 2.83L4 21.41c.39.39.9.59 1.41.59.51 0 1.02-.2 1.41-.59l7.78-7.78 2.81-2.81c.8-.78.8-2.07 0-2.86zM5.41 20L4 18.59l7.72-7.72 1.47 1.35L5.41 20z\"/>\n",
              "  </svg>\n",
              "      </button>\n",
              "      \n",
              "  <style>\n",
              "    .colab-df-container {\n",
              "      display:flex;\n",
              "      flex-wrap:wrap;\n",
              "      gap: 12px;\n",
              "    }\n",
              "\n",
              "    .colab-df-convert {\n",
              "      background-color: #E8F0FE;\n",
              "      border: none;\n",
              "      border-radius: 50%;\n",
              "      cursor: pointer;\n",
              "      display: none;\n",
              "      fill: #1967D2;\n",
              "      height: 32px;\n",
              "      padding: 0 0 0 0;\n",
              "      width: 32px;\n",
              "    }\n",
              "\n",
              "    .colab-df-convert:hover {\n",
              "      background-color: #E2EBFA;\n",
              "      box-shadow: 0px 1px 2px rgba(60, 64, 67, 0.3), 0px 1px 3px 1px rgba(60, 64, 67, 0.15);\n",
              "      fill: #174EA6;\n",
              "    }\n",
              "\n",
              "    [theme=dark] .colab-df-convert {\n",
              "      background-color: #3B4455;\n",
              "      fill: #D2E3FC;\n",
              "    }\n",
              "\n",
              "    [theme=dark] .colab-df-convert:hover {\n",
              "      background-color: #434B5C;\n",
              "      box-shadow: 0px 1px 3px 1px rgba(0, 0, 0, 0.15);\n",
              "      filter: drop-shadow(0px 1px 2px rgba(0, 0, 0, 0.3));\n",
              "      fill: #FFFFFF;\n",
              "    }\n",
              "  </style>\n",
              "\n",
              "      <script>\n",
              "        const buttonEl =\n",
              "          document.querySelector('#df-a5701034-aebd-48ad-8047-7a8d65519cb6 button.colab-df-convert');\n",
              "        buttonEl.style.display =\n",
              "          google.colab.kernel.accessAllowed ? 'block' : 'none';\n",
              "\n",
              "        async function convertToInteractive(key) {\n",
              "          const element = document.querySelector('#df-a5701034-aebd-48ad-8047-7a8d65519cb6');\n",
              "          const dataTable =\n",
              "            await google.colab.kernel.invokeFunction('convertToInteractive',\n",
              "                                                     [key], {});\n",
              "          if (!dataTable) return;\n",
              "\n",
              "          const docLinkHtml = 'Like what you see? Visit the ' +\n",
              "            '<a target=\"_blank\" href=https://colab.research.google.com/notebooks/data_table.ipynb>data table notebook</a>'\n",
              "            + ' to learn more about interactive tables.';\n",
              "          element.innerHTML = '';\n",
              "          dataTable['output_type'] = 'display_data';\n",
              "          await google.colab.output.renderOutput(dataTable, element);\n",
              "          const docLink = document.createElement('div');\n",
              "          docLink.innerHTML = docLinkHtml;\n",
              "          element.appendChild(docLink);\n",
              "        }\n",
              "      </script>\n",
              "    </div>\n",
              "  </div>\n",
              "  "
            ],
            "text/plain": [
              "                                              Review  Rating\n",
              "0  nice hotel expensive parking got good deal sta...       4\n",
              "1  ok nothing special charge diamond member hilto...       2\n",
              "2  nice rooms not 4* experience hotel monaco seat...       3\n",
              "3  unique, great stay, wonderful time hotel monac...       5\n",
              "4  great stay great stay, went seahawk game aweso...       5"
            ]
          },
          "metadata": {},
          "execution_count": 9
        }
      ]
    },
    {
      "cell_type": "code",
      "source": [
        "dataset = df.values"
      ],
      "metadata": {
        "id": "gnvb0Jc989Iv"
      },
      "execution_count": 10,
      "outputs": []
    },
    {
      "cell_type": "code",
      "source": [
        "# pilih 5 kolom terakhir sebagai atribut\n",
        "X = dataset[:,1:6]\n",
        "# bilangan sebelum koma untuk memilih baris pada dataframe\n",
        "# bilangan setelah koma untuk memilih kolom pada dataframe"
      ],
      "metadata": {
        "id": "ylQoFgpj9Kj5"
      },
      "execution_count": 11,
      "outputs": []
    },
    {
      "cell_type": "code",
      "source": [
        "y = dataset[:,0]"
      ],
      "metadata": {
        "id": "hg5Zuxv89NrC"
      },
      "execution_count": 12,
      "outputs": []
    },
    {
      "cell_type": "code",
      "source": [
        "# Normalization\n",
        "from sklearn import preprocessing\n",
        "min_max_scaler = preprocessing.MinMaxScaler()\n",
        "X_scale = min_max_scaler.fit_transform(X)\n",
        "X_scale"
      ],
      "metadata": {
        "colab": {
          "base_uri": "https://localhost:8080/"
        },
        "id": "e53QqWq49TZ_",
        "outputId": "536301e0-69b9-4e43-d78a-bb89869815e9"
      },
      "execution_count": 13,
      "outputs": [
        {
          "output_type": "execute_result",
          "data": {
            "text/plain": [
              "array([[0.75],\n",
              "       [0.25],\n",
              "       [0.5 ],\n",
              "       ...,\n",
              "       [0.25],\n",
              "       [0.  ],\n",
              "       [0.25]])"
            ]
          },
          "metadata": {},
          "execution_count": 13
        }
      ]
    },
    {
      "cell_type": "code",
      "source": [
        "# pisahkan data training dan testing\n",
        "from sklearn.model_selection import train_test_split\n",
        "X_train, X_test, Y_train, Y_test = train_test_split(X_scale, y, test_size=0.3)"
      ],
      "metadata": {
        "id": "h-iG-pS39ebp"
      },
      "execution_count": 14,
      "outputs": []
    },
    {
      "cell_type": "code",
      "source": [
        "from keras.models import Sequential\n",
        "from keras.layers import Dense"
      ],
      "metadata": {
        "id": "p-6Yj6nM9g4o"
      },
      "execution_count": 16,
      "outputs": []
    },
    {
      "cell_type": "code",
      "source": [
        "model = Sequential([\n",
        "                    Dense(32, activation='relu', input_shape=(5,)),\n",
        "                    Dense(32, activation='relu'),\n",
        "                    Dense(1, activation='sigmoid'),])"
      ],
      "metadata": {
        "id": "xZ45dLK590kF"
      },
      "execution_count": 19,
      "outputs": []
    },
    {
      "cell_type": "code",
      "source": [
        "model.compile(optimizer='sgd',\n",
        "              loss='binary_crossentropy',\n",
        "              metrics=['accuracy'])"
      ],
      "metadata": {
        "id": "vU-ZHvaE-nHl"
      },
      "execution_count": 20,
      "outputs": []
    },
    {
      "cell_type": "markdown",
      "source": [
        "**Membuat dan Melatih Model dengan Banyak Kelas**"
      ],
      "metadata": {
        "id": "DKihwdIoAyck"
      }
    },
    {
      "cell_type": "code",
      "source": [
        "import pandas as pd\n",
        "from sklearn import preprocessing\n",
        "from sklearn.model_selection import train_test_split\n",
        "from keras.models import Sequential\n",
        "from keras.layers import Dense"
      ],
      "metadata": {
        "id": "JJ8QLm3lA2i6"
      },
      "execution_count": 27,
      "outputs": []
    },
    {
      "cell_type": "code",
      "source": [
        "df = pd.read_csv('tripadvisor_hotel_reviews.csv')\n",
        "df"
      ],
      "metadata": {
        "colab": {
          "base_uri": "https://localhost:8080/",
          "height": 424
        },
        "id": "gEyDqKjnA7os",
        "outputId": "1a40ba7f-0165-46e8-8812-9ec8527c8b83"
      },
      "execution_count": 28,
      "outputs": [
        {
          "output_type": "execute_result",
          "data": {
            "text/html": [
              "\n",
              "  <div id=\"df-488f7b10-89fa-4132-aa7c-e365bd2a7055\">\n",
              "    <div class=\"colab-df-container\">\n",
              "      <div>\n",
              "<style scoped>\n",
              "    .dataframe tbody tr th:only-of-type {\n",
              "        vertical-align: middle;\n",
              "    }\n",
              "\n",
              "    .dataframe tbody tr th {\n",
              "        vertical-align: top;\n",
              "    }\n",
              "\n",
              "    .dataframe thead th {\n",
              "        text-align: right;\n",
              "    }\n",
              "</style>\n",
              "<table border=\"1\" class=\"dataframe\">\n",
              "  <thead>\n",
              "    <tr style=\"text-align: right;\">\n",
              "      <th></th>\n",
              "      <th>Review</th>\n",
              "      <th>Rating</th>\n",
              "    </tr>\n",
              "  </thead>\n",
              "  <tbody>\n",
              "    <tr>\n",
              "      <th>0</th>\n",
              "      <td>nice hotel expensive parking got good deal sta...</td>\n",
              "      <td>4</td>\n",
              "    </tr>\n",
              "    <tr>\n",
              "      <th>1</th>\n",
              "      <td>ok nothing special charge diamond member hilto...</td>\n",
              "      <td>2</td>\n",
              "    </tr>\n",
              "    <tr>\n",
              "      <th>2</th>\n",
              "      <td>nice rooms not 4* experience hotel monaco seat...</td>\n",
              "      <td>3</td>\n",
              "    </tr>\n",
              "    <tr>\n",
              "      <th>3</th>\n",
              "      <td>unique, great stay, wonderful time hotel monac...</td>\n",
              "      <td>5</td>\n",
              "    </tr>\n",
              "    <tr>\n",
              "      <th>4</th>\n",
              "      <td>great stay great stay, went seahawk game aweso...</td>\n",
              "      <td>5</td>\n",
              "    </tr>\n",
              "    <tr>\n",
              "      <th>...</th>\n",
              "      <td>...</td>\n",
              "      <td>...</td>\n",
              "    </tr>\n",
              "    <tr>\n",
              "      <th>20486</th>\n",
              "      <td>best kept secret 3rd time staying charm, not 5...</td>\n",
              "      <td>5</td>\n",
              "    </tr>\n",
              "    <tr>\n",
              "      <th>20487</th>\n",
              "      <td>great location price view hotel great quick pl...</td>\n",
              "      <td>4</td>\n",
              "    </tr>\n",
              "    <tr>\n",
              "      <th>20488</th>\n",
              "      <td>ok just looks nice modern outside, desk staff ...</td>\n",
              "      <td>2</td>\n",
              "    </tr>\n",
              "    <tr>\n",
              "      <th>20489</th>\n",
              "      <td>hotel theft ruined vacation hotel opened sept ...</td>\n",
              "      <td>1</td>\n",
              "    </tr>\n",
              "    <tr>\n",
              "      <th>20490</th>\n",
              "      <td>people talking, ca n't believe excellent ratin...</td>\n",
              "      <td>2</td>\n",
              "    </tr>\n",
              "  </tbody>\n",
              "</table>\n",
              "<p>20491 rows × 2 columns</p>\n",
              "</div>\n",
              "      <button class=\"colab-df-convert\" onclick=\"convertToInteractive('df-488f7b10-89fa-4132-aa7c-e365bd2a7055')\"\n",
              "              title=\"Convert this dataframe to an interactive table.\"\n",
              "              style=\"display:none;\">\n",
              "        \n",
              "  <svg xmlns=\"http://www.w3.org/2000/svg\" height=\"24px\"viewBox=\"0 0 24 24\"\n",
              "       width=\"24px\">\n",
              "    <path d=\"M0 0h24v24H0V0z\" fill=\"none\"/>\n",
              "    <path d=\"M18.56 5.44l.94 2.06.94-2.06 2.06-.94-2.06-.94-.94-2.06-.94 2.06-2.06.94zm-11 1L8.5 8.5l.94-2.06 2.06-.94-2.06-.94L8.5 2.5l-.94 2.06-2.06.94zm10 10l.94 2.06.94-2.06 2.06-.94-2.06-.94-.94-2.06-.94 2.06-2.06.94z\"/><path d=\"M17.41 7.96l-1.37-1.37c-.4-.4-.92-.59-1.43-.59-.52 0-1.04.2-1.43.59L10.3 9.45l-7.72 7.72c-.78.78-.78 2.05 0 2.83L4 21.41c.39.39.9.59 1.41.59.51 0 1.02-.2 1.41-.59l7.78-7.78 2.81-2.81c.8-.78.8-2.07 0-2.86zM5.41 20L4 18.59l7.72-7.72 1.47 1.35L5.41 20z\"/>\n",
              "  </svg>\n",
              "      </button>\n",
              "      \n",
              "  <style>\n",
              "    .colab-df-container {\n",
              "      display:flex;\n",
              "      flex-wrap:wrap;\n",
              "      gap: 12px;\n",
              "    }\n",
              "\n",
              "    .colab-df-convert {\n",
              "      background-color: #E8F0FE;\n",
              "      border: none;\n",
              "      border-radius: 50%;\n",
              "      cursor: pointer;\n",
              "      display: none;\n",
              "      fill: #1967D2;\n",
              "      height: 32px;\n",
              "      padding: 0 0 0 0;\n",
              "      width: 32px;\n",
              "    }\n",
              "\n",
              "    .colab-df-convert:hover {\n",
              "      background-color: #E2EBFA;\n",
              "      box-shadow: 0px 1px 2px rgba(60, 64, 67, 0.3), 0px 1px 3px 1px rgba(60, 64, 67, 0.15);\n",
              "      fill: #174EA6;\n",
              "    }\n",
              "\n",
              "    [theme=dark] .colab-df-convert {\n",
              "      background-color: #3B4455;\n",
              "      fill: #D2E3FC;\n",
              "    }\n",
              "\n",
              "    [theme=dark] .colab-df-convert:hover {\n",
              "      background-color: #434B5C;\n",
              "      box-shadow: 0px 1px 3px 1px rgba(0, 0, 0, 0.15);\n",
              "      filter: drop-shadow(0px 1px 2px rgba(0, 0, 0, 0.3));\n",
              "      fill: #FFFFFF;\n",
              "    }\n",
              "  </style>\n",
              "\n",
              "      <script>\n",
              "        const buttonEl =\n",
              "          document.querySelector('#df-488f7b10-89fa-4132-aa7c-e365bd2a7055 button.colab-df-convert');\n",
              "        buttonEl.style.display =\n",
              "          google.colab.kernel.accessAllowed ? 'block' : 'none';\n",
              "\n",
              "        async function convertToInteractive(key) {\n",
              "          const element = document.querySelector('#df-488f7b10-89fa-4132-aa7c-e365bd2a7055');\n",
              "          const dataTable =\n",
              "            await google.colab.kernel.invokeFunction('convertToInteractive',\n",
              "                                                     [key], {});\n",
              "          if (!dataTable) return;\n",
              "\n",
              "          const docLinkHtml = 'Like what you see? Visit the ' +\n",
              "            '<a target=\"_blank\" href=https://colab.research.google.com/notebooks/data_table.ipynb>data table notebook</a>'\n",
              "            + ' to learn more about interactive tables.';\n",
              "          element.innerHTML = '';\n",
              "          dataTable['output_type'] = 'display_data';\n",
              "          await google.colab.output.renderOutput(dataTable, element);\n",
              "          const docLink = document.createElement('div');\n",
              "          docLink.innerHTML = docLinkHtml;\n",
              "          element.appendChild(docLink);\n",
              "        }\n",
              "      </script>\n",
              "    </div>\n",
              "  </div>\n",
              "  "
            ],
            "text/plain": [
              "                                                  Review  Rating\n",
              "0      nice hotel expensive parking got good deal sta...       4\n",
              "1      ok nothing special charge diamond member hilto...       2\n",
              "2      nice rooms not 4* experience hotel monaco seat...       3\n",
              "3      unique, great stay, wonderful time hotel monac...       5\n",
              "4      great stay great stay, went seahawk game aweso...       5\n",
              "...                                                  ...     ...\n",
              "20486  best kept secret 3rd time staying charm, not 5...       5\n",
              "20487  great location price view hotel great quick pl...       4\n",
              "20488  ok just looks nice modern outside, desk staff ...       2\n",
              "20489  hotel theft ruined vacation hotel opened sept ...       1\n",
              "20490  people talking, ca n't believe excellent ratin...       2\n",
              "\n",
              "[20491 rows x 2 columns]"
            ]
          },
          "metadata": {},
          "execution_count": 28
        }
      ]
    },
    {
      "cell_type": "code",
      "source": [
        "df = df.drop(columns='Review')"
      ],
      "metadata": {
        "id": "k54T4y9cBGxC"
      },
      "execution_count": 30,
      "outputs": []
    },
    {
      "cell_type": "code",
      "source": [
        "X_train, X_test, Y_train, Y_test = train_test_split(X_scale, y, test_size=0.3)"
      ],
      "metadata": {
        "id": "kvWPC3xKBylp"
      },
      "execution_count": 34,
      "outputs": []
    },
    {
      "cell_type": "code",
      "source": [
        "model = Sequential([    \n",
        "                   Dense(64, activation='relu', input_shape=(4,)),    \n",
        "\t                 Dense(64, activation='relu'),    \n",
        "\t                 Dense(3, activation='softmax'),])"
      ],
      "metadata": {
        "id": "1szZIdt-CHCw"
      },
      "execution_count": 35,
      "outputs": []
    },
    {
      "cell_type": "code",
      "source": [
        "model.compile(optimizer='Adam',\n",
        "\t              loss='categorical_crossentropy',\n",
        "\t              metrics=['accuracy'])"
      ],
      "metadata": {
        "id": "rsE5aIktCST2"
      },
      "execution_count": 36,
      "outputs": []
    }
  ]
}